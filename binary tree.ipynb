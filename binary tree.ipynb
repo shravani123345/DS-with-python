{
 "cells": [
  {
   "cell_type": "markdown",
   "id": "6a8281ed-aadd-455c-ad73-068a1458874f",
   "metadata": {},
   "source": [
    "# creat a binary tree "
   ]
  },
  {
   "cell_type": "code",
   "execution_count": 4,
   "id": "c6d92289-c7ba-4ee0-aa7d-91ed46b63652",
   "metadata": {},
   "outputs": [],
   "source": [
    "class mytree:\n",
    "    class Treenode:\n",
    "        def __init__(self, data):\n",
    "            self.data = data\n",
    "            self.right = None\n",
    "            self.left = None\n",
    "    def __init__(self):\n",
    "        self.root = None\n",
    "    def insert(self, data):\n",
    "        new_node = mytree.Treenode(data)\n",
    "        if self.root == None:\n",
    "            self.root = new_node\n",
    "            return\n",
    "            current = self.root\n",
    "            while True:\n",
    "                if data < current.data:\n",
    "                    if current.left is None:\n",
    "                        current.left = new_node\n",
    "                        break\n",
    "                    else:\n",
    "                        current = current.left\n",
    "                else:\n",
    "                    if current.right is None:\n",
    "                        current.rigth = new_node\n",
    "                        break\n",
    "                    else:\n",
    "                        current = current.right  \n",
    "    def search(self, val):\n",
    "            current = self.root\n",
    "            while current:\n",
    "                if current.data == val:\n",
    "                    return True\n",
    "                    break\n",
    "                elif val < current.data:\n",
    "                    current = current.left\n",
    "                else: \n",
    "                    current = current.right\n",
    "            return False\n",
    "    def in_order_traversal(self,node):\n",
    "            if node:\n",
    "                print(node.data, end=' ')\n",
    "                self.per_order_traversal(node, left)\n",
    "                self.per_order_traversal(node, right)\n",
    "    def post_order_traversal(self, node):\n",
    "        if node:\n",
    "            self.post_order_traversal(node.left)\n",
    "            self.post_order_traversal(node.right)\n",
    "            print(node.data, end=' ')               "
   ]
  },
  {
   "cell_type": "code",
   "execution_count": 5,
   "id": "a0a052ec-e02f-4e4f-914c-afbdbdb1c53d",
   "metadata": {},
   "outputs": [],
   "source": [
    "T = mytree()\n",
    "T.insert(11)\n",
    "T.insert(9)\n",
    "T.insert(7)\n",
    "T.insert(10)"
   ]
  },
  {
   "cell_type": "code",
   "execution_count": 3,
   "id": "0177f932-77e5-450b-8b06-8efaeee6db14",
   "metadata": {},
   "outputs": [
    {
     "data": {
      "text/plain": [
       "False"
      ]
     },
     "execution_count": 3,
     "metadata": {},
     "output_type": "execute_result"
    }
   ],
   "source": [
    "T.search(8)"
   ]
  },
  {
   "cell_type": "code",
   "execution_count": null,
   "id": "1cf24a7a-c594-4775-99a7-4a62d6a05a68",
   "metadata": {},
   "outputs": [],
   "source": []
  }
 ],
 "metadata": {
  "kernelspec": {
   "display_name": "Python 3 (ipykernel)",
   "language": "python",
   "name": "python3"
  },
  "language_info": {
   "codemirror_mode": {
    "name": "ipython",
    "version": 3
   },
   "file_extension": ".py",
   "mimetype": "text/x-python",
   "name": "python",
   "nbconvert_exporter": "python",
   "pygments_lexer": "ipython3",
   "version": "3.11.7"
  }
 },
 "nbformat": 4,
 "nbformat_minor": 5
}
