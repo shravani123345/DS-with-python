{
 "cells": [
  {
   "cell_type": "code",
   "execution_count": null,
   "id": "c717fb5f-b482-4ca2-ae78-22ca2ee40393",
   "metadata": {},
   "outputs": [],
   "source": [
    "def checkpassword(str,n):\n",
    "    valid = False \n",
    "    if len(str)<4:\n",
    "        return o\n",
    "    for i in str:\n",
    "        if i.isdigit():\n",
    "            valid = True \n",
    "            break\n",
    "        if valid == False:\n",
    "            return 0\n",
    "            for i in str:\n",
    "                if i==\" \" or i==\"/\":\n",
    "                 return 0\n",
    "        if str[0].isdigit():\n",
    "            return 0\n",
    "        return 1\n",
    "\n",
    "pwd = input(\"enter a password to check\")\n",
    "print(checkpassword(pwd))    "
   ]
  },
  {
   "cell_type": "code",
   "execution_count": null,
   "id": "6fd54005-1161-4bef-8d78-bbf8f3fff029",
   "metadata": {},
   "outputs": [],
   "source": []
  }
 ],
 "metadata": {
  "kernelspec": {
   "display_name": "Python 3 (ipykernel)",
   "language": "python",
   "name": "python3"
  },
  "language_info": {
   "codemirror_mode": {
    "name": "ipython",
    "version": 3
   },
   "file_extension": ".py",
   "mimetype": "text/x-python",
   "name": "python",
   "nbconvert_exporter": "python",
   "pygments_lexer": "ipython3",
   "version": "3.11.7"
  }
 },
 "nbformat": 4,
 "nbformat_minor": 5
}
