{
 "cells": [
  {
   "cell_type": "code",
   "execution_count": 1,
   "id": "d6f23a92-0e69-4641-abe1-c0f174e459ce",
   "metadata": {},
   "outputs": [
    {
     "data": {
      "text/plain": [
       "120"
      ]
     },
     "execution_count": 1,
     "metadata": {},
     "output_type": "execute_result"
    }
   ],
   "source": [
    "def fact(n):\n",
    "    if(n==0):\n",
    "        return 1\n",
    "    else:\n",
    "        return n*fact(n-1)\n",
    "fact(5)"
   ]
  },
  {
   "cell_type": "code",
   "execution_count": 13,
   "id": "e732b891-810c-45a6-8640-70e8d28cdf28",
   "metadata": {},
   "outputs": [
    {
     "name": "stdout",
     "output_type": "stream",
     "text": [
      "10\n"
     ]
    }
   ],
   "source": [
    "word=\"this is my sentance sdjflk jlk LJLJ HIASJO HIJAS \"\n",
    "count=0\n",
    "for i in word:\n",
    "    if(i==\" \"):\n",
    "        count=count+1\n",
    "print(count+1)\n"
   ]
  },
  {
   "cell_type": "code",
   "execution_count": 48,
   "id": "97e58e79-1e03-4f2d-92d4-44989e290ce5",
   "metadata": {},
   "outputs": [
    {
     "name": "stdout",
     "output_type": "stream",
     "text": [
      "['mango', 'apple', 'banana']\n"
     ]
    }
   ],
   "source": [
    "import random\n",
    "list=[\"apple\",\"banana\",\"mango\"]\n",
    "random.shuffle(list)\n",
    "print(list)"
   ]
  },
  {
   "cell_type": "code",
   "execution_count": 100,
   "id": "79e50fc5-a6e2-44ad-af81-1565f545d1e9",
   "metadata": {},
   "outputs": [
    {
     "name": "stdout",
     "output_type": "stream",
     "text": [
      "the element is present\n",
      "2 found at 4\n"
     ]
    }
   ],
   "source": [
    "list=[1,5,6,5,2,5,3]\n",
    "k=2\n",
    "flag=0\n",
    "for i in list:\n",
    "    if(i==k):\n",
    "        flag=1\n",
    "        break\n",
    "if(flag==1):\n",
    "    print(\"the element is present\")\n",
    "else:\n",
    "    print(\"the element is not presentt\")\n",
    "print(f\"{k} found at\",list.index(k))"
   ]
  },
  {
   "cell_type": "code",
   "execution_count": 155,
   "id": "8ccba931-a1ff-4427-80c3-8a9f4ef00b26",
   "metadata": {},
   "outputs": [
    {
     "name": "stdout",
     "output_type": "stream",
     "text": [
      "{1: 3, 4: 5, 12: 15}\n",
      "15\n",
      "{1: 3, 4: 5, 12: 15, 9: 10}\n",
      "{1: 3, 4: 18, 12: 15, 9: 10}\n",
      "3\n",
      "18\n",
      "15\n",
      "10\n",
      "1\n",
      "4\n",
      "12\n",
      "9\n",
      "(1, 3)\n",
      "(4, 18)\n",
      "(12, 15)\n",
      "(9, 10)\n",
      "{4: 18, 12: 15, 9: 10}\n"
     ]
    }
   ],
   "source": [
    "dic1={1:3,4:5,12:15}\n",
    "print(dic1)\n",
    "dic1.update({9:10})\n",
    "print(dic1[12])\n",
    "print(dic1)\n",
    "dic1[4]=18\n",
    "print(dic1)\n",
    "for i in dic1.values():\n",
    "    print(i)\n",
    "for i in dic1.keys():\n",
    "    print(i)\n",
    "for i in dic1.items():\n",
    "    print(i)\n",
    "del dic1[1]\n",
    "print(dic1)\n",
    "    "
   ]
  },
  {
   "cell_type": "code",
   "execution_count": null,
   "id": "c5cdc4f5-14de-4dfb-8cdb-ef3d67bfaf1e",
   "metadata": {},
   "outputs": [],
   "source": []
  }
 ],
 "metadata": {
  "kernelspec": {
   "display_name": "Python 3 (ipykernel)",
   "language": "python",
   "name": "python3"
  },
  "language_info": {
   "codemirror_mode": {
    "name": "ipython",
    "version": 3
   },
   "file_extension": ".py",
   "mimetype": "text/x-python",
   "name": "python",
   "nbconvert_exporter": "python",
   "pygments_lexer": "ipython3",
   "version": "3.11.7"
  }
 },
 "nbformat": 4,
 "nbformat_minor": 5
}
