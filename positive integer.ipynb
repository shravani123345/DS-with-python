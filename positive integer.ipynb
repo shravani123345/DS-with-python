{
 "cells": [
  {
   "cell_type": "code",
   "execution_count": 9,
   "id": "7422af00-58fd-47ae-a3b5-efa359c6cd86",
   "metadata": {},
   "outputs": [],
   "source": [
    "def rats(r, units,arr):\n",
    "    if len(arr)  == 0:\n",
    "        return -1\n",
    "    foodreq = r*units\n",
    "    foodsofar = 0\n",
    "    for i in range(len(arr)):\n",
    "        foodsofar = foodsofar + arr[i]\n",
    "        if foodsofar >= foodreq:\n",
    "            print(i+1)\n",
    "            break\n",
    "    return 0\n"
   ]
  },
  {
   "cell_type": "code",
   "execution_count": 10,
   "id": "e13a9e30-ba4a-43e7-b330-d32796bc07e1",
   "metadata": {},
   "outputs": [
    {
     "name": "stdout",
     "output_type": "stream",
     "text": [
      "2\n"
     ]
    },
    {
     "data": {
      "text/plain": [
       "0"
      ]
     },
     "execution_count": 10,
     "metadata": {},
     "output_type": "execute_result"
    }
   ],
   "source": [
    "arr = [22,45,30,67]\n",
    "rats(10, 5, arr)"
   ]
  },
  {
   "cell_type": "code",
   "execution_count": null,
   "id": "47d45ade-c306-4def-a4e5-f4840df46252",
   "metadata": {},
   "outputs": [],
   "source": [
    "Take a number "
   ]
  }
 ],
 "metadata": {
  "kernelspec": {
   "display_name": "Python 3 (ipykernel)",
   "language": "python",
   "name": "python3"
  },
  "language_info": {
   "codemirror_mode": {
    "name": "ipython",
    "version": 3
   },
   "file_extension": ".py",
   "mimetype": "text/x-python",
   "name": "python",
   "nbconvert_exporter": "python",
   "pygments_lexer": "ipython3",
   "version": "3.11.7"
  }
 },
 "nbformat": 4,
 "nbformat_minor": 5
}
