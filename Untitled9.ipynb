{
 "cells": [
  {
   "cell_type": "code",
   "execution_count": 1,
   "id": "39cb09b5-dfa5-433a-aad5-cc67d6465eaa",
   "metadata": {},
   "outputs": [],
   "source": [
    "class Node:\n",
    "    def __init__(self,data):\n",
    "        self.data=data\n",
    "        self.next=None\n",
    "    "
   ]
  },
  {
   "cell_type": "code",
   "execution_count": 2,
   "id": "83b53524-37b6-4067-b1e9-3b181d1740ab",
   "metadata": {},
   "outputs": [],
   "source": [
    "class Mylinkedlist:\n",
    "    def __init__(self):\n",
    "            self.head = None \n",
    "    def insert_beg(self,data):\n",
    "            new_Node = Node(data)\n",
    "            new_Node.next = self.head\n",
    "            self.head = new_Node"
   ]
  },
  {
   "cell_type": "code",
   "execution_count": 3,
   "id": "b38980a0-d3f6-4dc4-b395-03a8721a449b",
   "metadata": {},
   "outputs": [],
   "source": [
    "  def insertend(self,data):\n",
    "            new_Node = MyLL.myNode(data)\n",
    "            if self.head == None:\n",
    "                self.head = new_Node\n",
    "            return\n",
    "            current = self.head\n",
    "            while current.next:\n",
    "                current = current.next\n",
    "            current.next = new_node"
   ]
  },
  {
   "cell_type": "code",
   "execution_count": 4,
   "id": "27cefc00-dc2c-4a4e-82d2-a1d120550894",
   "metadata": {},
   "outputs": [],
   "source": [
    "class mmylinkedlist:\n",
    "    def __init__(self):\n",
    "        self.head = None\n",
    "    def insert_beg(self,data):\n",
    "        new_node = MyLL.mynodes(data)\n",
    "        new_node.next = self.head\n",
    "        self.head = new_node\n",
    "    def insert_beg(self,data):\n",
    "        new_node = MyLL.mynodes(data)\n",
    "        if self.head == None:\n",
    "            self.head = new_node\n",
    "        return\n",
    "        current = self.head\n",
    "        while current.next:\n",
    "            current = current.next #last_node\n",
    "        current.next = new_node\n",
    "    def insert(self,data,prev_node):\n",
    "        new_node = MyLL.mynodes(data)\n",
    "        new_node.next = prev_node.next\n",
    "        prev_node.next = new_node\n",
    "    def print_LL(self):\n",
    "        current = self.head\n",
    "        while current:\n",
    "            print(current.data, end = '-->')\n",
    "            current = current.next\n",
    "    def search(self,val):\n",
    "        current = self.head\n",
    "        while current:\n",
    "                if current.data == val:\n",
    "                    return True\n",
    "                current = current.next\n",
    "            return False\n",
    "    def deletefirst(self):\n",
    "        current = self.head\n",
    "    def deleteend(self):\n",
    "        if self.head == 0:\n",
    "            return\n",
    "            current = self.head\n",
    "            while current.next:\n",
    "                current = current.next\n",
    "            current.next = none \n",
    "            return current\n"
   ]
  },
  {
   "cell_type": "code",
   "execution_count": 9,
   "id": "0426853d-2075-40d7-b034-2ec30431ad72",
   "metadata": {},
   "outputs": [
    {
     "ename": "AttributeError",
     "evalue": "'Mylinkedlist' object has no attribute 'insertb'",
     "output_type": "error",
     "traceback": [
      "\u001b[1;31m---------------------------------------------------------------------------\u001b[0m",
      "\u001b[1;31mAttributeError\u001b[0m                            Traceback (most recent call last)",
      "Cell \u001b[1;32mIn[9], line 2\u001b[0m\n\u001b[0;32m      1\u001b[0m ll \u001b[38;5;241m=\u001b[39m Mylinkedlist()\n\u001b[1;32m----> 2\u001b[0m ll\u001b[38;5;241m.\u001b[39minsertb(\u001b[38;5;241m55\u001b[39m)\n\u001b[0;32m      3\u001b[0m ll\u001b[38;5;241m.\u001b[39minsertb(\u001b[38;5;241m90\u001b[39m)\n\u001b[0;32m      4\u001b[0m ll\u001b[38;5;241m.\u001b[39minsertb(\u001b[38;5;241m89\u001b[39m)\n",
      "\u001b[1;31mAttributeError\u001b[0m: 'Mylinkedlist' object has no attribute 'insertb'"
     ]
    }
   ],
   "source": [
    "ll = Mylinkedlist()\n",
    "ll.insertb(55)\n",
    "ll.insertb(90)\n",
    "ll.insertb(89)\n",
    "ll.print_LL()\n",
    "ll.deletfirst()\n"
   ]
  },
  {
   "cell_type": "code",
   "execution_count": null,
   "id": "5503b81e-4135-4a58-8ba4-ed5ba00fe517",
   "metadata": {},
   "outputs": [],
   "source": [
    " "
   ]
  },
  {
   "cell_type": "code",
   "execution_count": null,
   "id": "f341cfd7-36a2-411f-8a39-0ff85a811281",
   "metadata": {},
   "outputs": [],
   "source": []
  }
 ],
 "metadata": {
  "kernelspec": {
   "display_name": "Python 3 (ipykernel)",
   "language": "python",
   "name": "python3"
  },
  "language_info": {
   "codemirror_mode": {
    "name": "ipython",
    "version": 3
   },
   "file_extension": ".py",
   "mimetype": "text/x-python",
   "name": "python",
   "nbconvert_exporter": "python",
   "pygments_lexer": "ipython3",
   "version": "3.11.7"
  }
 },
 "nbformat": 4,
 "nbformat_minor": 5
}
