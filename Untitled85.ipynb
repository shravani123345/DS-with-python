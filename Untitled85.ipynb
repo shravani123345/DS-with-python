{
 "cells": [
  {
   "cell_type": "code",
   "execution_count": 13,
   "id": "adefa1d4-b426-4f17-b3be-96deaebe52c0",
   "metadata": {},
   "outputs": [],
   "source": [
    "def funct(arr):\n",
    "    n = len(arr)\n",
    "    if n<=3:\n",
    "        return 0\n",
    "    even = []\n",
    "    odd = []\n",
    "    for i in range(n):\n",
    "        if i%2==0:\n",
    "            even.append(arr[i])\n",
    "        else:\n",
    "            odd.append(arr[i])\n",
    "    even.sort()\n",
    "    odd.sort()\n",
    "    print(even)\n",
    "    s1 = even[-2]\n",
    "    s2 = odd[1]\n",
    "    sum = s1+s2\n",
    "    return sum"
   ]
  },
  {
   "cell_type": "code",
   "execution_count": 14,
   "id": "7edc2334-f303-49fd-8168-da4b9e2807bd",
   "metadata": {},
   "outputs": [
    {
     "name": "stdout",
     "output_type": "stream",
     "text": [
      "[2, 5, 8]\n",
      "11\n"
     ]
    }
   ],
   "source": [
    "arr = [5, 7, 8, 3, 2, 6]\n",
    "print(funct(arr))"
   ]
  },
  {
   "cell_type": "code",
   "execution_count": null,
   "id": "05a9bfcc-0703-4aa9-83d3-ffcb9c91c048",
   "metadata": {},
   "outputs": [],
   "source": [
    "\n"
   ]
  },
  {
   "cell_type": "code",
   "execution_count": null,
   "id": "adbb9f5f-e574-44f2-a2de-6170b26f7187",
   "metadata": {},
   "outputs": [],
   "source": []
  },
  {
   "cell_type": "code",
   "execution_count": null,
   "id": "f7af27df-1936-4e79-9ce1-7f4453369518",
   "metadata": {},
   "outputs": [],
   "source": []
  }
 ],
 "metadata": {
  "kernelspec": {
   "display_name": "Python 3 (ipykernel)",
   "language": "python",
   "name": "python3"
  },
  "language_info": {
   "codemirror_mode": {
    "name": "ipython",
    "version": 3
   },
   "file_extension": ".py",
   "mimetype": "text/x-python",
   "name": "python",
   "nbconvert_exporter": "python",
   "pygments_lexer": "ipython3",
   "version": "3.11.7"
  }
 },
 "nbformat": 4,
 "nbformat_minor": 5
}
