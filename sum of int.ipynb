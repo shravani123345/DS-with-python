{
 "cells": [
  {
   "cell_type": "code",
   "execution_count": 6,
   "id": "2eda7783-b7db-41ed-ae46-1be73cc9e2c3",
   "metadata": {},
   "outputs": [],
   "source": [
    "def div(m,n):\n",
    "    divi = 0\n",
    "    ndivi = 0\n",
    "    for i in range(1,m+1):\n",
    "        if i % n == 0:\n",
    "            divi = divi+i\n",
    "        else:\n",
    "            ndivi = ndivi+i\n",
    "    if ndivi>divi:\n",
    "        print(ndivi - divi)\n",
    "    else:\n",
    "        print(divi - ndivi)  "
   ]
  },
  {
   "cell_type": "code",
   "execution_count": 7,
   "id": "2d8df1fb-3a85-49c4-b4f0-b943b0b91c8b",
   "metadata": {},
   "outputs": [
    {
     "name": "stdout",
     "output_type": "stream",
     "text": [
      "465\n"
     ]
    }
   ],
   "source": [
    "div(30,45)"
   ]
  },
  {
   "cell_type": "code",
   "execution_count": null,
   "id": "9d7e61bd-5cc3-4879-bd18-9e9acfee96f9",
   "metadata": {},
   "outputs": [],
   "source": []
  }
 ],
 "metadata": {
  "kernelspec": {
   "display_name": "Python 3 (ipykernel)",
   "language": "python",
   "name": "python3"
  },
  "language_info": {
   "codemirror_mode": {
    "name": "ipython",
    "version": 3
   },
   "file_extension": ".py",
   "mimetype": "text/x-python",
   "name": "python",
   "nbconvert_exporter": "python",
   "pygments_lexer": "ipython3",
   "version": "3.11.7"
  }
 },
 "nbformat": 4,
 "nbformat_minor": 5
}
