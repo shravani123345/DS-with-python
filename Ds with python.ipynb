{
 "cells": [
  {
   "cell_type": "markdown",
   "id": "c78e5fdd-8586-4baa-80bd-110080da7f6e",
   "metadata": {},
   "source": [
    "# circular queue implementing with fixed size"
   ]
  },
  {
   "cell_type": "code",
   "execution_count": null,
   "id": "8fb94b29-09e6-4205-8af7-c881fd0103ee",
   "metadata": {},
   "outputs": [],
   "source": [
    "1. Intialize:\n",
    "    -size\n",
    "    -front pointer(exit)\n",
    "    -rear ponter(entry)\n",
    "    -queue(list)\n",
    "2. enqueue\n",
    "    -queue is full(rear+1 == front)\n",
    "    -First element(rear = front= 0), then append\n",
    "    -entering anywhere except at the begining(rear = rear+1 % s size),then append \n",
    "3. dequeue:\n",
    "    -rear = front-1(queue empty)\n",
    "    -rear = front(only one element remains)(pop it by moving the front & rear to -1)\n",
    "    -dequeue the element pointed by front pointer(front means first element)&\n",
    "    increment from pointer \n",
    "    dequeue = moving the front pointer to next value  "
   ]
  },
  {
   "cell_type": "code",
   "execution_count": 1,
   "id": "5660e908-91f5-4313-84a9-a989e4a9a354",
   "metadata": {},
   "outputs": [],
   "source": [
    "class circularQ:\n",
    "    def __init__(self, size):\n",
    "        self.size = size\n",
    "        self.front = self.rear = -1\n",
    "        self.queue = [None] * size\n",
    "    def enqueue(self, data):\n",
    "        if(self.rear+1)%self.size == self.front:\n",
    "            print(\"queue is full\")\n",
    "        elif self.front == -1:\n",
    "            self.front = self.rear = 0\n",
    "            self.queue[self.rear] = data\n",
    "        else:\n",
    "            self.rear = (self.rear+1)%self.size\n",
    "            self.queue[self.rear] = data \n",
    "    def dequeue(self):\n",
    "        if self.front == -1:\n",
    "            print(\"queue is empty\")\n",
    "        elif self.front == self.rear:\n",
    "            popped = self.queue[self.front]\n",
    "            self.front = self.rear = -1\n",
    "        else:\n",
    "            popped = self.queue[self.front]\n",
    "            self.front = (self.front + 1)%self.size\n",
    "            \n",
    "            return popped\n",
    "    def display(self):\n",
    "        if self.front == -1:\n",
    "            print(\"queue is empty\")\n",
    "            return\n",
    "        i = self.front\n",
    "        while True:\n",
    "            print(self.queue[i])\n",
    "            if i == self.rear:\n",
    "                break\n",
    "            i = (i+1) % self.size"
   ]
  },
  {
   "cell_type": "code",
   "execution_count": 4,
   "id": "e0e6801f-08b8-49a4-b1aa-e80a6e755922",
   "metadata": {},
   "outputs": [
    {
     "name": "stdout",
     "output_type": "stream",
     "text": [
      "1\n",
      "2\n",
      "3\n"
     ]
    }
   ],
   "source": [
    "Q = circularQ(3)\n",
    "Q.enqueue(1)\n",
    "Q.enqueue(2)\n",
    "Q.enqueue(3)\n",
    "Q.display()"
   ]
  },
  {
   "cell_type": "code",
   "execution_count": null,
   "id": "6719a1f0-92e7-4ba8-b3ec-e20b28f98b85",
   "metadata": {},
   "outputs": [],
   "source": []
  }
 ],
 "metadata": {
  "kernelspec": {
   "display_name": "Python 3 (ipykernel)",
   "language": "python",
   "name": "python3"
  },
  "language_info": {
   "codemirror_mode": {
    "name": "ipython",
    "version": 3
   },
   "file_extension": ".py",
   "mimetype": "text/x-python",
   "name": "python",
   "nbconvert_exporter": "python",
   "pygments_lexer": "ipython3",
   "version": "3.11.7"
  }
 },
 "nbformat": 4,
 "nbformat_minor": 5
}
